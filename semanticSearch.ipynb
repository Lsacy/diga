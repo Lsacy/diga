{
 "cells": [
  {
   "cell_type": "code",
   "execution_count": 13,
   "metadata": {},
   "outputs": [
    {
     "name": "stderr",
     "output_type": "stream",
     "text": [
      "c:\\Users\\asian\\miniconda3\\envs\\medfarm\\lib\\site-packages\\tqdm\\auto.py:22: TqdmWarning: IProgress not found. Please update jupyter and ipywidgets. See https://ipywidgets.readthedocs.io/en/stable/user_install.html\n",
      "  from .autonotebook import tqdm as notebook_tqdm\n"
     ]
    }
   ],
   "source": [
    "import pandas as pd\n",
    "import numpy as np\n",
    "from sentence_transformers import SentenceTransformer, util"
   ]
  },
  {
   "cell_type": "code",
   "execution_count": 48,
   "metadata": {},
   "outputs": [
    {
     "data": {
      "text/html": [
       "<div>\n",
       "<style scoped>\n",
       "    .dataframe tbody tr th:only-of-type {\n",
       "        vertical-align: middle;\n",
       "    }\n",
       "\n",
       "    .dataframe tbody tr th {\n",
       "        vertical-align: top;\n",
       "    }\n",
       "\n",
       "    .dataframe thead th {\n",
       "        text-align: right;\n",
       "    }\n",
       "</style>\n",
       "<table border=\"1\" class=\"dataframe\">\n",
       "  <thead>\n",
       "    <tr style=\"text-align: right;\">\n",
       "      <th></th>\n",
       "      <th>app_name</th>\n",
       "      <th>developer_info</th>\n",
       "      <th>website_info</th>\n",
       "      <th>app_status</th>\n",
       "      <th>start_date</th>\n",
       "      <th>end_date</th>\n",
       "      <th>app_description</th>\n",
       "      <th>indication_codes</th>\n",
       "      <th>indication_names</th>\n",
       "      <th>price</th>\n",
       "      <th>property_values</th>\n",
       "    </tr>\n",
       "  </thead>\n",
       "  <tbody>\n",
       "    <tr>\n",
       "      <th>0</th>\n",
       "      <td>CANKADO PRO-React Onco</td>\n",
       "      <td>CANKADO GmbH, Deutschland</td>\n",
       "      <td>partners.cankado.com/about/</td>\n",
       "      <td>vorläufig aufgenommen</td>\n",
       "      <td>03.05.2021</td>\n",
       "      <td>02.05.2023</td>\n",
       "      <td>PRO-React Onco ist eine Web- und App-basierte ...</td>\n",
       "      <td>C50</td>\n",
       "      <td>Bösartige Neubildung der Brustdrüse Mamma</td>\n",
       "      <td>399.84</td>\n",
       "      <td>Keine Zusatzgeräte, Vertragsärztliche Leistung...</td>\n",
       "    </tr>\n",
       "    <tr>\n",
       "      <th>1</th>\n",
       "      <td>Cara Care für Reizdarm</td>\n",
       "      <td>HiDoc Technologies GmbH, Deutschland</td>\n",
       "      <td>cara.care/de/about/</td>\n",
       "      <td>vorläufig aufgenommen</td>\n",
       "      <td>26.12.2021</td>\n",
       "      <td>25.11.2023</td>\n",
       "      <td>Cara Care für Reizdarm ist eine digitale Gesun...</td>\n",
       "      <td>K58, K58.1, K58.2, K58.3, K58.8</td>\n",
       "      <td>Reizdarmsyndrom, Reizdarmsyndrom, Diarrhoe-prä...</td>\n",
       "      <td>718.20</td>\n",
       "      <td>Keine Zusatzgeräte, Keine vertragsärztlichen L...</td>\n",
       "    </tr>\n",
       "    <tr>\n",
       "      <th>2</th>\n",
       "      <td>companion patella powered by medi - proved by ...</td>\n",
       "      <td>PrehApp GmbH, Deutschland</td>\n",
       "      <td>prehapp.de</td>\n",
       "      <td>vorläufig aufgenommen</td>\n",
       "      <td>04.10.2021</td>\n",
       "      <td>03.03.2023</td>\n",
       "      <td>companion patella powered by medi - proved by ...</td>\n",
       "      <td>M22.2, M22.4, M76.5, M79.66, S83.0</td>\n",
       "      <td>Krankheiten im Patellofemoralbereich, Chondrom...</td>\n",
       "      <td>345.10</td>\n",
       "      <td>Keine Zusatzgeräte, Vertragsärztliche Leistung...</td>\n",
       "    </tr>\n",
       "    <tr>\n",
       "      <th>3</th>\n",
       "      <td>deprexis</td>\n",
       "      <td>GAIA AG, Deutschland</td>\n",
       "      <td>gaia-group.com/de/</td>\n",
       "      <td>Dauerhaft aufgenommen</td>\n",
       "      <td>NaN</td>\n",
       "      <td>NaN</td>\n",
       "      <td>deprexis ist ein interaktives onlinebasiertes ...</td>\n",
       "      <td>F32.0, F32.1, F32.2, F33.0, F33.1, F33.2</td>\n",
       "      <td>Leichte depressive Episode, Mittelgradige depr...</td>\n",
       "      <td>210.00</td>\n",
       "      <td>Keine Zusatzgeräte, Keine vertragsärztlichen L...</td>\n",
       "    </tr>\n",
       "    <tr>\n",
       "      <th>4</th>\n",
       "      <td>edupression.com®</td>\n",
       "      <td>SOFY GmbH, Österreich</td>\n",
       "      <td>edupression.com/</td>\n",
       "      <td>vorläufig aufgenommen</td>\n",
       "      <td>26.12.2022</td>\n",
       "      <td>25.08.2023</td>\n",
       "      <td>Die DiGA edupression.com® besteht aus dem Medi...</td>\n",
       "      <td>F32.0, F32.1, F33.0, F33.1</td>\n",
       "      <td>Leichte depressive Episode, Mittelgradige depr...</td>\n",
       "      <td>178.50 - 357.00</td>\n",
       "      <td>Keine Zusatzgeräte, Keine vertragsärztlichen L...</td>\n",
       "    </tr>\n",
       "  </tbody>\n",
       "</table>\n",
       "</div>"
      ],
      "text/plain": [
       "                                            app_name  \\\n",
       "0                             CANKADO PRO-React Onco   \n",
       "1                             Cara Care für Reizdarm   \n",
       "2  companion patella powered by medi - proved by ...   \n",
       "3                                           deprexis   \n",
       "4                                   edupression.com®   \n",
       "\n",
       "                         developer_info                 website_info  \\\n",
       "0             CANKADO GmbH, Deutschland  partners.cankado.com/about/   \n",
       "1  HiDoc Technologies GmbH, Deutschland          cara.care/de/about/   \n",
       "2             PrehApp GmbH, Deutschland                   prehapp.de   \n",
       "3                  GAIA AG, Deutschland           gaia-group.com/de/   \n",
       "4                 SOFY GmbH, Österreich             edupression.com/   \n",
       "\n",
       "              app_status  start_date    end_date  \\\n",
       "0  vorläufig aufgenommen  03.05.2021  02.05.2023   \n",
       "1  vorläufig aufgenommen  26.12.2021  25.11.2023   \n",
       "2  vorläufig aufgenommen  04.10.2021  03.03.2023   \n",
       "3  Dauerhaft aufgenommen         NaN         NaN   \n",
       "4  vorläufig aufgenommen  26.12.2022  25.08.2023   \n",
       "\n",
       "                                     app_description  \\\n",
       "0  PRO-React Onco ist eine Web- und App-basierte ...   \n",
       "1  Cara Care für Reizdarm ist eine digitale Gesun...   \n",
       "2  companion patella powered by medi - proved by ...   \n",
       "3  deprexis ist ein interaktives onlinebasiertes ...   \n",
       "4  Die DiGA edupression.com® besteht aus dem Medi...   \n",
       "\n",
       "                           indication_codes  \\\n",
       "0                                       C50   \n",
       "1           K58, K58.1, K58.2, K58.3, K58.8   \n",
       "2        M22.2, M22.4, M76.5, M79.66, S83.0   \n",
       "3  F32.0, F32.1, F32.2, F33.0, F33.1, F33.2   \n",
       "4                F32.0, F32.1, F33.0, F33.1   \n",
       "\n",
       "                                    indication_names            price  \\\n",
       "0          Bösartige Neubildung der Brustdrüse Mamma           399.84   \n",
       "1  Reizdarmsyndrom, Reizdarmsyndrom, Diarrhoe-prä...           718.20   \n",
       "2  Krankheiten im Patellofemoralbereich, Chondrom...           345.10   \n",
       "3  Leichte depressive Episode, Mittelgradige depr...           210.00   \n",
       "4  Leichte depressive Episode, Mittelgradige depr...  178.50 - 357.00   \n",
       "\n",
       "                                     property_values  \n",
       "0  Keine Zusatzgeräte, Vertragsärztliche Leistung...  \n",
       "1  Keine Zusatzgeräte, Keine vertragsärztlichen L...  \n",
       "2  Keine Zusatzgeräte, Vertragsärztliche Leistung...  \n",
       "3  Keine Zusatzgeräte, Keine vertragsärztlichen L...  \n",
       "4  Keine Zusatzgeräte, Keine vertragsärztlichen L...  "
      ]
     },
     "execution_count": 48,
     "metadata": {},
     "output_type": "execute_result"
    }
   ],
   "source": [
    "df = pd.read_csv('diga.csv')\n",
    "df.head()"
   ]
  },
  {
   "cell_type": "code",
   "execution_count": 7,
   "metadata": {},
   "outputs": [
    {
     "data": {
      "text/plain": [
       "RangeIndex(start=0, stop=37, step=1)"
      ]
     },
     "execution_count": 7,
     "metadata": {},
     "output_type": "execute_result"
    }
   ],
   "source": [
    "df.index"
   ]
  },
  {
   "cell_type": "code",
   "execution_count": 8,
   "metadata": {},
   "outputs": [
    {
     "ename": "NameError",
     "evalue": "name 'df_dict' is not defined",
     "output_type": "error",
     "traceback": [
      "\u001b[1;31m---------------------------------------------------------------------------\u001b[0m",
      "\u001b[1;31mNameError\u001b[0m                                 Traceback (most recent call last)",
      "Cell \u001b[1;32mIn[8], line 1\u001b[0m\n\u001b[1;32m----> 1\u001b[0m df_dict[\u001b[39m0\u001b[39m][\u001b[39m'\u001b[39m\u001b[39mapp_name\u001b[39m\u001b[39m'\u001b[39m]\n",
      "\u001b[1;31mNameError\u001b[0m: name 'df_dict' is not defined"
     ]
    }
   ],
   "source": [
    "df_dict[0]['app_name']"
   ]
  },
  {
   "cell_type": "code",
   "execution_count": 9,
   "metadata": {},
   "outputs": [],
   "source": [
    "# take each row with app_name, developer_info, indication_codes, indication_names, app_description\n",
    "df = df[['app_name', 'developer_info', 'indication_codes', 'indication_names', 'app_description']]\n",
    "\n",
    "# create a dictionary with row index as key and all the other columns as values as a single value\n",
    "df_dict = df.T.to_dict('list')"
   ]
  },
  {
   "cell_type": "code",
   "execution_count": 10,
   "metadata": {},
   "outputs": [
    {
     "name": "stdout",
     "output_type": "stream",
     "text": [
      "['CANKADO PRO-React Onco', 'CANKADO GmbH, Deutschland', 'C50', 'Bösartige Neubildung der Brustdrüse Mamma', 'PRO-React Onco ist eine Web- und App-basierte digitale Gesundheitsanwendung zur Unterstützung von Brustkrebspatientinnen und -patienten. Mit PRO-React Onco können Patientinnen und Patienten Ihre Beschwerden eigenständig erfassen. In Abhängigkeit zur Erkrankung und der laufenden Therapie werden automatisiert Verhaltenshinweise gegeben, wie dringend die jeweilige Beschwerde mit dem behandelnden Arzt oder der behandelnden Ärztin besprochen werden muss.']\n",
      "['Cara Care für Reizdarm', 'HiDoc Technologies GmbH, Deutschland', 'K58, K58.1, K58.2, K58.3, K58.8', 'Reizdarmsyndrom, Reizdarmsyndrom, Diarrhoe-prädominant RDS-D, Reizdarmsyndrom, Obstipations-prädominant RDS-O, Reizdarmsyndrom mit wechselnden (gemischten) Stuhlgewohnheiten RDS-M, Sonstiges und nicht näher bezeichnetes Reizdarmsyndrom', 'Cara Care für Reizdarm ist eine digitale Gesundheitsanwendung zur Therapie des Reizdarmsyndroms. Die Anwendung dient primär zur Symptomreduktion funktioneller gastrointestinaler Beschwerden. Sekundär sollen krankheitsbezogene Lebensqualität und Gesundheitskompetenz gesteigert, Ängstlichkeit und Depressivität gelindert sowie krankheitsbezogene Arbeits- und Aktivitätseinschränkungen verbessert werden.-Diese Wirkungen werden über ein multimodales Selbsthilfekonzept innerhalb der Anwendung erzielt:Personalisierte Inhalte basierend auf leitlinienkonformen Therapieverfahren aus den Bereichen Ernährung (low-FODMAP-Diät) und Psychotherapie (kognitive Verhaltenstherapie sowie Darm-gerichtete Hypnotherapie) bewirken Änderungen von Lebensstil, Kognitionen, Emotionen und Verhalten, die sich positiv auf die bekannten Pathomechanismen des Reizdarmsyndroms auswirken.Im Rahmen einer Mindestnutzungsdauer von 12 Wochen erarbeiten sich die Nutzenden personalisierte Inhalte in Eigenregie. Dies wird durch multimediale und interaktive Inhalte unterstützt. So erhalten die Nutzenden über das Tracking von Symptomen und Lebensstilfaktoren sowie durch die erneute Abfrage von Symptom- und Lebensqualitätsscores Feedback zum Behandlungsfortschritt, erfahren pädagogische Unterstützung durch regelmäßige Abfrage psychoedukativen Wissens oder setzen sich persönliche Ziele innerhalb der Anwendung.-Cara Care für Reizdarm dient zur alleinstehenden Therapie des Reizdarmsyndroms.']\n",
      "['companion patella powered by medi - proved by Dt. Kniegesellschaft', 'PrehApp GmbH, Deutschland', 'M22.2, M22.4, M76.5, M79.66, S83.0', 'Krankheiten im Patellofemoralbereich, Chondromalacia patellae, Tendinitis der Patellarsehne, Schmerzen in den Extremitäten: Unterschenkel Fibula, Tibia, Kniegelenk, Luxation der Patella', 'companion patella powered by medi - proved by Dt. Kniegesellschaft ist eine Digitale Gesundheitsanwendung für Patientinnen und Patienten mit Vorderem Knieschmerz im Alter von 14- 65 Jahren. Basierend auf persönlichen Angaben des Anwenders zu Schmerz- und Belastungsempfinden, wird der bewegungstherapeutische Trainingsplan im Verlauf der Therapie kontinuierlich an die individuellen Bedürfnisse des Nutzers angepasst. Den Patienten steht neben dem Trainingsbereich eine Fachbibliothek mit Beiträgen zu ihrem Erkrankungsbild zur Verfügung, die diese edukativ unterstützt. Daten zu Schmerz und Funktionseinschränkungen werden innerhalb der Anwendung regelmäßig erfasst und für die Patienten und deren behandelnde Ärzte graphisch aufbereitet. Die Therapie wurde in Zusammenarbeit mit den Fachspezialisten des Komitees Patellofemoral der Deutschen Kniegesellschaft entwickelt und validiert. Die Anwendungsdauer beträgt 90 Tage.']\n",
      "['deprexis', 'GAIA AG, Deutschland', 'F32.0, F32.1, F32.2, F33.0, F33.1, F33.2', 'Leichte depressive Episode, Mittelgradige depressive Episode, Schwere depressive Episode ohne psychotische Symptome, Rezidivierende depressive Störung, gegenwärtig leichte Episode, Rezidivierende depressive Störung, gegenwärtig mittelgradige Episode, Rezidivierende depressive Störung, gegenwärtig schwere Episode ohne psychotische Symptome', 'deprexis ist ein interaktives onlinebasiertes Selbsthilfeprogramm zur Therapieunterstützung von Patienten mit Depressionen und depressiven Verstimmungen, die mindestens 18 Jahre alt sind. Das Programm soll in Ergänzung zu einer sonst üblichen Behandlung (zum Beispiel beim Haus-, Facharzt oder Psychotherapeuten) eingesetzt werden. deprexis basiert auf etablierten psychotherapeutischen Ansätzen und Verfahren insbesondere der kognitiven Verhaltenstherapie (KVT). Die Wirksamkeit von deprexis wurde in mehreren klinischen Studien untersucht. In diesen Studien zeigte sich, dass Patienten, die zusätzlich zu einer üblichen medizinischen Versorgung deprexis nutzten, deutlich weniger depressive Beschwerden hatten als Patienten, die nur eine übliche medizinische Versorgung erhielten. Die Verordnungsdauer von deprexis beträgt 90 Tage.']\n",
      "['edupression.com®', 'SOFY GmbH, Österreich', 'F32.0, F32.1, F33.0, F33.1', 'Leichte depressive Episode, Mittelgradige depressive Episode, Rezidivierende depressive Störung, gegenwärtig leichte Episode, Rezidivierende depressive Störung, gegenwärtig mittelgradige Episode', 'Die DiGA edupression.com® besteht aus dem Medizinprodukte System, edupression.com® System, mit den Medizinprodukten edupression.com® Psychoedukation und edupression.com® Stimmungsdiagramm. Das System ist eine webbasierte Software, die plattformunabhängig mittels gängiger Browser mit Internetverbindung ab- und aufgerufen werden kann (Software-as-a-Service).Die Anwendung leitet Patientinnen und Patienten entlang des “Activity Feeds” durch das Programm und spielt täglich multimedial aufbereitete Informationen und Übungen aus der Psychodedukation zur Selbsthilfe aus. Außerdem enthält sie Elemente der computerbasierten kognitiven Verhaltenstherapie. Wöchentlich können von Patientinnen und Patienten sogenannte Wochenziele bestimmt werden, für die im Laufe der Woche vertiefende Informationen und Empfehlungen für Patientinnen und Patienten angezeigt werden. Patientinnen und Patienten werden täglich erinnert, das Stimmungsdiagramm in Form einer kurzen Umfrage mit Ja/Nein Fragen, auszufüllen und so ihre Stimmung aufzuzeichnen. Berichte geben den Verlauf der Eingaben über die Zeit wieder, so wird Patienten das Stimmungsdiagramm visualisiert oder Ergebnisse aus dem PHQ-9 Fragebogen. Die Berichte können interaktiv angezeigt werden oder sind als portables Datenformat verfügbar. Durch spielerische Elemente werden die Patientinnen und Patienten ermuntert und “belohnt”, der Gesundheitsanwendung weiter zu folgen (Aktivitätspunkte, Abzeichen, Zeugnisse, Summe der Zeit im Programm usw. als Gamification). Eddy, der Therapie-Avatar, begleitet optisch in der Anwendung die Patientinnen und Patienten auf ihrem Weg. In Videos lernen Patientinnen und Patienten Alice kennen, die an einer Depression leidet und durchleben mit ihr den Weg zur Genesung. Zu jedem Kapitel gibt es Booklets im portablen Datenformat (pdf) zum Download zum Nachlesen.']\n",
      "['elevida', 'GAIA AG, Deutschland', 'G35', 'Multiple Sklerose Encephalomyelitis disseminata', 'elevida ist eine digitale Gesundheitsanwendung für Menschen mit einer Multiplen Sklerose, bei denen zusätzlich eine Fatigue vorliegt und die mindestens 18 Jahre alt sind. Von einer Fatigue spricht man dann, wenn eine anhaltende Müdigkeit oder Erschöpfung besteht.elevida verfolgt das Ziel, die Fatigue zu reduzieren. Das Programm soll in Ergänzung zu einer sonst üblichen Behandlung (zum Beispiel beim Haus- oder Facharzt) eingesetzt werden.elevida basiert auf etablierten psychotherapeutischen Ansätzen und Verfahren insbesondere der kognitiven Verhaltenstherapie (KVT).elevida ist zur Eigenanwendung durch den Patienten für 180 Tage bestimmt. Die Wirksamkeit von elevida wurde in einer klinischen Studie untersucht und in einer wissenschaftlichen Fachzeitschrift veröffentlicht. An dieser Studie nahmen 275 Patienten teil, die an einer Multiplen Sklerose und zusätzlich auch an einer Fatigue litten. In dieser Studie zeigte sich, dass bei Patienten, die zusätzlich zu einer sonst üblichen Behandlung elevida nutzten, die Fatigue deutlich stärker abgenommen hatte als bei Patienten, die nur eine sonst übliche Behandlung erhielten. Die Verordnungsdauer von elevida beträgt 90 Tage. Zur Stabilisierung der Effekte ist eine Nutzung für 180 Tage empfohlen.']\n",
      "['elona therapy Depression', 'Elona Health GmbH, Deutschland', 'F32.0, F32.1, F32.2, F33.0, F33.1, F33.2, F34.1', 'Leichte depressive Episode, Mittelgradige depressive Episode, Schwere depressive Episode ohne psychotische Symptome, Rezidivierende depressive Störung, gegenwärtig leichte Episode, Rezidivierende depressive Störung, gegenwärtig mittelgradige Episode, Rezidivierende depressive Störung, gegenwärtig schwere Episode ohne psychotische Symptome, Dysthymia', 'elona therapy Depression ist die digitale Gesundheitsanwendung für eine verzahnte ambulante Psychotherapie, die digitale Interventionen und die reguläre Gesprächstherapie intelligent verbindet und so die Behandlung der unipolaren Depression unterstützt. Patientinnen und Patienten stehen mit elona therapy Interventionen, hilfreiche Aktivitäten, Übungen und psychoedukative Inhalte auch über die Therapiesitzung hinaus zur Verfügung, sodass Patientinnen und Patienten zwischen den Therapiesitzungen einen einfachen Zugang zu zugeschnittenen psychotherapeutischen Ressourcen haben.-elona therapy Depression ermittelt auf Basis des Therapiefortschrittes der Patientinnen und Patienten einen wöchentlichen Therapieplan. Anhand von psychometrischen Fragebögen und Übungen sowie deren Auswertung werden die Inhalte auf die Bedürfnisse der Betroffenen individualisiert. Zusätzlich können Leistungserbringende das Erlebnis in elona therapy weiter auf den Therapiefortschritt ihrer Patientinnen und Patienten anpassen und zusätzliche Ressourcen freischalten, um eine bestmögliche Verzahnung, aber auch die Sicherheit ihrer Patientinnen und Patienten zu gewährleisten. Übungen können gezielt der Wiederholung von Inhalten, der Vertiefung des Wissens oder der Umsetzung von konkreten Aufgaben im Alltag dienen. Durch die Verzahnung kann die Psychotherapie intensiviert und die Übertragung der Therapieinhalte in den Alltag gesteigert werden, um so Fortschritte in der Behandlung der Depression über die Regelversorgung hinaus zu erzielen.-Versorgungspfad: Therapiebegleitung']\n",
      "['Endo-App', 'Endo Health GmbH, Deutschland', 'N80', 'Endometriose', 'Die Endo-App ist ein digitales Medizinprodukt zur multimodalen Unterstützung von Endometriose-Betroffenen. Ziel des Programms ist es, die Nutzerinnen dabei zu unterstützen, im Rahmen des Selbstmanagements ihre Lebensqualität zu verbessern. Das Selbstmanagementkonzept beruht grundlegend auf einem Symptomtagebuch, in dem Nutzerinnen ihre Symptome, Aktivitäten, Übungen und ihre Behandlungen dokumentieren können, sowie auf multimodalen Inhalten. Als Teil der multimodalen Therapie werden wissensvermittelnde Elemente, validierte Fragebögen, geführte Übungen und Techniken aus dem Bereich Gynäkologie, Physiotherapie, Psychologie, Schmerztherapie, Rehabilitation, Sozialpädagogik, Ernährung, Ressourcenaktivierung sowie Resilienzstärkung zur Verfügung gestellt.']\n",
      "['HelloBetter Diabetes und Depression', 'GET.ON Institut für Online Gesundheitstrainings GmbH, Deutschland', 'E10, E11', 'Diabetes mellitus, Typ 1, Diabetes mellitus, Typ 2', 'HelloBetter Diabetes und Depression ist ein interaktives psychologisches Therapieprogramm zur Reduktion der depressiven Symptomschwere bei Personen mit Diabetes Mellitus Typ 1 oder Typ 2. Anhand einer randomisiert kontrollierten Studie konnte gezeigt werden, dass mit der Teilnahme an diesem Online-Programm depressive Symptomatik wirksam reduziert werden kann. Der 12-wöchige Online-Kurs vermittelt neben fundierter Psychoedukation mittels Texten, Videos und Audios, wirksame Strategien aus der kognitiven Verhaltenstherapie (KVT), u.a. Verhaltensaktivierung und Problemlösetechniken. Darüber hinaus werden diabetesspezifische Themen wie die Gestaltung eines vertrauensvollen ärztlichen Gesprächs, Umgang und Auswirkungen von Diabetes auf die Partnerschaft, der Umgang mit Grübelgedanken rund um die Erkrankung thematisiert sowie diabetes-spezifische Themen wie z.B. Ernährung, Bewegung und gesunder Schlaf thematisiert. Alle Inhalte wurden dabei zielgruppenspezifisch für Betroffene mit Diabetes Mellitus Typ 1 oder Typ 2 angepasst.          Zusätzlich gibt es ein Online-Tagebuch, eine Begleit-App und wiederholte Symptom-Checks, um die eigenen Fortschritte festhalten, beobachten und auswerten zu können. Es wird in allen Angeboten großen Wert auf die Patientensicherheit gelegt. Daher steht Betroffenen jederzeit, insbesondere in Krisensituationen, ein persönlicher, geschulter Psychologe zur Seite. Zu jeder Einheit des Kurses erhalten Betroffene innerhalb von 24 Stunden eine schriftliche Rückmeldung des persönlichen Psychologen. Zusätzlich steht der persönliche Psychologe über eine Nachrichtenfunktion bei Fragen zur Anwendung zur Verfügung. HelloBetter Diabetes und Depression kann dabei zusätzlich zur Standardversorgung eingesetzt werden.']\n",
      "['HelloBetter Panik', 'GET.ON Institut für Online Gesundheitstrainings GmbH, Deutschland', 'F40.01, F41.0', 'Agoraphobie: Mit Panikstörung, Panikstörung episodisch paroxysmale Angst', 'HelloBetter Panik ist ein interaktives psychologisches Therapieprogramm zur Behandlung und Reduzierung der Symptomschwere einer Panikstörung und Agoraphobie mit Panikstörung. Anhand einer randomisiert kontrollierten Studie konnte der Nachweis eines positiven Versorgungseffekts für Patientinnen und Patienten mit psychotherapeutischer Vorerfahrung erbracht werden. Der 12-wöchige Online-Kurs vermittelt fundierte Psychoedukation in Texten, Videos und Audios sowie wirksame Strategien aus der kognitiven Verhaltenstherapie (KVT). Dazu gehören unter anderem wiederholte Konfrontationen mit inneren und äußeren angstauslösenden Reizen, kognitive Umstrukturierung, Entspannungsübungen und eine Rückfallprophylaxe. Darüber hinaus gibt es ein Online-Tagebuch, eine Begleit-App und mehrfache Symptom-Checks, um die eigenen Fortschritte festhalten, beobachten und auswerten zu können. Es wird in allen Angeboten großen Wert auf die Patientensicherheit gelegt.']\n",
      "['HelloBetter ratiopharm chronischer Schmerz', 'GET.ON Institut für Online Gesundheitstrainings GmbH, Deutschland', 'F45.40, F45.41, M54, M79.7, R52.1, R52.2', 'Anhaltende somatoforme Schmerzstörung, Chronische Schmerzstörung mit somatischen und psychischen Faktoren, Rückenschmerzen, Fibromyalgie, Chronischer unbeeinflussbarer Schmerz, Sonstiger chronischer Schmerz', 'HelloBetter ratiopharm chronischer Schmerz ist ein interaktives psychologisches Online-Programm zur anhaltenden Reduktion der Schmerzbeeinträchtigung bei Menschen mit chronischen Schmerzen. Neben fundierter Psychoedukation mittels Texten, Videos und Audios, erlernen Betroffene wirksame Strategien derAkzeptanz- und Commitment-Therapie (ACT), die eine Weiterentwicklung der kognitiven Verhaltenstherapie (KVT) darstellt. Diese Strategien können durch praktische Übungen in den Alltag übertragen werden.']\n",
      "['HelloBetter Schlafen', 'GET.ON Institut für Online Gesundheitstrainings GmbH, Deutschland', 'F51.0, G47.0', 'Nichtorganische Insomnie, Ein- und Durchschlafstörungen', 'HelloBetter Schlafen ist ein interaktives psychologisches Therapieprogramm zur Reduktion insomnischer Beschwerden. Das Online-Programm basiert auf der kognitiven Verhaltenstherapie für Insomnie (KVT-I) und wurde von Expertinnen und Experten aus der Wissenschaft, Psychologie und Psychotherapie sowie gemeinsam mit Betroffenen entwickelt. Neben fundierter Psychoedukation vermittelt das Online-Programm wirksame Strategien aus der kognitiven Verhaltenstherapie nach dem aktuellsten Stand wissenschaftlicher Erkenntnisse.Dazu gehören unter anderem Schlafhygiene, Bettzeitverkürzung, Stimuluskontrolle, kognitive Strategien, Entspannungsverfahren, eine Rückfallprophylaxe sowie ein fortlaufendes Online-Tagebuch.']\n",
      "['HelloBetter Stress und Burnout', 'GET.ON Institut für Online Gesundheitstrainings GmbH, Deutschland', 'Z73', 'Probleme mit Bezug auf Schwierigkeiten bei der Lebensbewältigung', 'HelloBetter Stress und Burnout ist ein interaktives, psychologisches Therapieprogramm, das auf eine anhaltende Minderung der Stressbeanspruchung in Bezug auf Schwierigkeiten bei der Lebens- und Arbeitsbewältigung abzielt. Anhand einer randomisiert kontrollierten Studie konnte gezeigt werden, dass mit der Teilnahme an diesem Online-Programm die Stressbeanspruchung nachweislich reduziert wird sowie Verbesserungen in Bereichen der psychischen Gesundheit (Depression, Angst, Schlaf) und arbeitsbezogenen Gesundheit (emotionale Erschöpfung, Arbeitsengagement) erzielt werden. Der Online-Kurs besteht aus sieben wöchentlich zu absolvierenden Einheiten sowie einer vier Wochen nach Kursende angesetzten Auffrischungseinheit mit einer Bearbeitungsdauer von je 45-60 Minuten. Neben fundierter Psychoedukation mittels Texten, Videos und Audios, vermittelt das Online-Programm wirksame Strategien aus der kognitiven Verhaltenstherapie (KVT) nach dem aktuellsten Stand wissenschaftlicher Erkenntnisse. Dazu gehören unter anderem Problemlösetechniken, Verhaltensaktivierung sowie Emotionsregulationsstrategien. Zusätzlich gibt es ein Online-Tagebuch, eine Begleit-App und wiederholte Symptom-Checks, um die eigenen Fortschritte festhalten, beobachten und auswerten zu können. Es wird in allen Angeboten großen Wert auf die Patientensicherheit gelegt. Daher steht Betroffenen jederzeit, insbesondere in Krisensituationen, ein persönlicher, geschulter Psychologe zur Seite. Zu jeder Einheit des Kurses erhalten Betroffene innerhalb von 24 Stunden eine schriftliche Rückmeldung des persönlichen Psychologen. Zusätzlich steht der persönliche Psychologe über eine Nachrichtenfunktion bei Fragen zur Anwendung zur Verfügung.']\n",
      "['HelloBetter Vaginismus Plus', 'GET.ON Institut für Online Gesundheitstrainings GmbH, Deutschland', 'F52.5, F52.6', 'Nichtorganischer Vaginismus, Nichtorganische Dyspareunie', 'HelloBetter Vaginismus Plus ist eine digitale Gesundheitsanwendung zur Verbesserung der vaginalen Penetrationsfähigkeit beim Geschlechtsverkehr. Betroffene erhalten wichtige Informationen zu ihren Symptomen und können mithilfe verschiedener Übungen Veränderungen im Denken und Handeln erproben sowie Erlerntes in den Alltag übertragen. Ein besonderer Schwerpunkt liegt dabei auf schrittweisen vaginalen Einführungsübungen und dem Aufbau von positiven sexuellen Erfahrungen. Zudem werden unter anderem belastende Gedanken und Gefühle hinterfragt und Entspannungs- sowie Beckenbodenübungen integriert.']\n",
      "['Invirto- Die Therapie gegen Angst', 'Sympatient GmbH, Deutschland', 'F40.00, F40.01, F40.1, F41.0', 'Agoraphobie: Ohne Angabe einer Panikstörung, Agoraphobie: Mit Panikstörung, Soziale Phobien, Panikstörung episodisch paroxysmale Angst', 'Invirto ermöglicht Menschen mit einer Agoraphobie, Panikstörung oder sozialen Phobie eine Behandlung ihrer Angststörung von zu Hause aus. Patientinnen und Patienten lernen von Therapeutinnen oder Ärzten begleitet mit einer App und einer Virtual-Reality-Brille unter anderem: Ihre Angst besser zu verstehen, mit hoher Anspannung umzugehen, Angstgedanken zu bewältigen und angstbesetzte Situationen wieder aufzusuchen. Die Begleitung durch Psychotherapeutinnen oder Ärzte sichert eine hochqualitative Versorgung und unterstützt die Nutzerinnen und Nutzer. Invirto ermöglicht es, die Symptome der Angststörung zu reduzieren, Vermeidungsverhalten zu verringern und wieder mehr Bewegungsfreiheit im Alltag zurückzugewinnen. Invirto basiert auf einer kognitiven Verhaltenstherapie mit Expositionstraining, die von Fachgesellschaften für die Behandlung von Angststörungen empfohlen wird.']\n",
      "['Kaia COPD: Meine aktive COPD Therapie', 'kaia health software GmbH, Deutschland', 'J44.8, J44.9', 'Sonstige näher bezeichnete chronische obstruktive Lungenkrankheit, Chronische obstruktive Lungenkrankheit, nicht näher bezeichnet', 'Kaia COPD ist eine gemeinsam mit Lungenfachärzten entwickelte digitale Anwendung für erwachsene Patientinnen und Patienten mit COPD. Sie vermittelt evidenzbasierte und leitlinienkonforme Inhalte der Pneumologischen Rehabilitation, um die körperliche Leistungsfähigkeit und die gesundheitsbezogene Lebensqualität zu verbessern. Kaia COPD setzt sich aus den Therapie-Elementen Bewegung, Patientenedukation sowie Entspannungs- und Atemtechniken zusammen. In der Anwendung können Patientinnen und Patienten ein individuelles Therapieprogramm durchlaufen und aktiv ihre Symptome lindern. Die Inhalte basieren auf den Empfehlungen der Nationalen VersorgungsLeitlinie COPD.-Kaia COPD ist eine nicht-medikamentöse Therapie und kann als Therapiebegleitung der medikamentösen Therapie eingesetzt werden. Dabei berücksichtigt Kaia COPD die individuellen Voraussetzungen der Patientin bzw. des Patienten wie die körperliche Leistungsfähigkeit und ermöglicht so eine fortlaufend an die Patientin bzw. den Patienten angepasste Therapie. Patientinnen und Patienten können Kaia COPD zeit- und ortsunabhängig nutzen.-Die Therapie mit Kaia COPD beruht auf den Erkenntnissen neuester Studien über die Entstehung und Behandlung der COPD. Die Wirksamkeit der Therapie konnte in mehreren bereits veröffentlichten klinischen Studien beobachtet und wissenschaftlich belegt werden.']\n",
      "['Kalmeda', 'mynoise GmbH, Deutschland', 'H93.1', 'Tinnitus aurium', 'Diese DiGA bietet Patientinnen und Patienten (die das 18. Lebensjahr vollendet haben) mit chronischer Tinnitusbelastung eine leitlinienbasierte, verhaltenstherapeutische Therapie. Ergänzt wird das strukturierte Programm durch Entspannungsanleitungen, beruhigende Natur- und Hintergrundgeräusche sowie einen Wissensteil.  Das mehrmonatige verhaltenstherapeutische Programm besteht aus 5 Leveln mit jeweils 9 Etappen und zeigt Patienten schrittweise den Weg zu einem selbstbestimmten Umgang mit dem Tinnitus und zu einer Reduzierung der Tinnitusbelastung.']\n",
      "['Kranus Edera', 'Kranus Health GmbH, Deutschland', 'N48.4', 'Impotenz organischen Ursprungs', 'Kranus Edera ist eine digitale Gesundheitsanwendung zur ganzheitlichen Behandlung von Erektionsstörungen und ihren Ursachen. Die alleinstehende Therapie unterstützt Männer mit erektiler Dysfunktion selbst aktiv an ihrer Behandlung teil zu haben und hilft Ärztinnen und Ärzten dabei die Empfehlungen der Leitlinien zur Behandlung von Erektionsstörungen umzusetzen und so die Therapieoptionen zu erweitern. Anwender der App absolvieren ein 12-Wochen Programm aus den Bausteinen Beckenbodentraining, physiotherapeutische Übungen, kardiovaskuläres Ausdauertraining sowie Achtsamkeits- und sexualtherapeutische Übungen. Patienten erhalten wöchentlich neue Übungen, die in ihrer Intensität und Komplexität fortlaufend angepasst werden. Ergänzt wird die Therapie durch Wissensvermittlung über die Erkrankung und hilfreiche Tipps, z.B. zur Ernährung und zu vorbeugenden Maßnahmen.']\n",
      "['Mawendo', 'Mawendo GmbH, Deutschland', 'M22', 'Krankheiten der Patella', 'Mawendo stellt Trainingsprogramme mit Übungsvideos, Gesundheitsinformationen und Dokumentationsmöglichkeiten bereit. Das Trainingsprogramm wird initial durch Ärztinnen und Ärzte ausgewählt und in Bezug auf das Krankheitsbild, die spezifischen Übungen sowie die Trainingsphasen für die Patientin oder den Patienten individualisiert. Im Anschluss können Patientinnen und Patienten mit Hilfe der DiGA die Behandlung von Erkrankungen der Kniescheibe (Patella) durch Eigentraining selbstständig unterstützen.']\n",
      "['Meine Tinnitus App - Das digitale Tinnitus Counseling', 'Sonormed GmbH, Deutschland', 'H93.1', 'Tinnitus aurium', 'Meine Tinnitus App - Das digitale Tinnitus Counseling wird für Tinnitus-Patientinnen und Tinnitus-Patienten zur Erstversorgung eingesetzt. Die aktuell gültige S3 Leitlinie empfiehlt das Tinnitus Counseling als anerkannten Behandlungsweg: Durch die Anwendung konkreter Maßnahmen und etablierter Techniken können Patientinnen und Patienten ihre Tinnitus-Belastung verringern. Die behandelnde Ärztin oder der behandelnde Arzt verordnet die Smartphone-App Meine Tinnitus App - Das digitale Tinnitus Counseling als Erstanwendung nach einer eingehenden Untersuchung. Die App stellt Patientinnen und Patienten Psycho-Edukation und Anleitung zum Selbstmanagement durch umfassende tinnitusspezifische Multimedia-Inhalte bereit. Die Patientinnen und Patienten werden innerhalb von 10 Wochen in interaktiver, unterhaltsamer und individuell abgestimmter Weise durch verschiedene Lektionen geführt und schrittweise mit gezielten edukatorischen Inhalten und Übungen vertraut gemacht. Jede Lektion wird mit einer motivierenden Überprüfung abgeschlossen, um wenige Tage später die nächste Lektion starten zu können. Meine Tinnitus App - Das digitale Tinnitus Counseling steht den Patientinnen und Patientinnen und Patienten für 12 Monate zur Verfügung, entweder zur Wiederholung der Lektionen oder auch zur Festigung ihres Therapieerfolgs. Meine Tinnitus App - Das digitale Tinnitus Counseling ist eine alleinstehende Therapie für Tinnitus-Patientinnen und Tinnitus-Patienten, die an eine Erstberatung durch die behandelnde Ärztin oder den behandelnden Arzt anschließt.']\n",
      "['Mindable: Panikstörung und Agoraphobie', 'Mindable Health GmbH, Deutschland', 'F40.0, F41.0', 'Agoraphobie, Panikstörung episodisch paroxysmale Angst', 'Die App \"Mindable: Panikstörung und Agoraphobie\" richtet sich an Menschen ab 18 Jahren, die an den Symptomen einer Agoraphobie und/oder Panikstörung leiden. Das Behandlungsprogramm basiert auf S3-leitlinienkonformen Methoden der Kognitiven Verhaltenstherapie. Mindable unterstützt Nutzerinnen und Nutzer dabei ihre Ängste proaktiv anzugehen und zu reduzieren. Neben Psychoedukation liegt der Schwerpunkt des Behandlungsprogramms auf der Gewöhnung an Körpersymptome (Habituation durch gezielte Symptomprovokation), sowie in-vivo Konfrontation. Während der Konfrontationsübungen werden Angstverläufe live aufgezeichnet. Darüber hinaus können Nutzerinnen und Nutzer angstbezogene Symptome, Ereignisse und Verhalten regelmäßig erfassen und bei Bedarf mit ihren behandelnden Ärzten oder Therapeuten teilen. Mindable ist als iOS und Android App, sowie in deutscher, englischer und französischer Sprache verfügbar.']\n",
      "['neolexon Aphasie', 'Limedix GmbH, Deutschland', 'R47.0, R48.2', 'Dysphasie und Aphasie, Apraxie', 'neolexon Aphasie bietet Menschen mit Aphasie und/oder Sprechapraxie ein logopädisches Training zum täglichen Üben zuhause als Ergänzung zur Sprachtherapie. Die Anwendung umfasst Übungen in allen sprachlichen Bereichen (Verstehen, Sprechen, Lesen und Schreiben), die von der behandelnden Sprachtherapeutin oder vom behandelnden Sprachtherapeuten individuell initial festgelegt und fortlaufend angepasst werden. Es können Wörter, Sätze oder Texte trainiert werden.']\n",
      "['NichtraucherHelden-App', 'NichtraucherHelden GmbH, Deutschland', 'F17.2', 'Psychische und Verhaltensstörungen durch Tabak: Abhängigkeitssyndrom', 'Die App dient der Behandlung und Linderung einer diagnostizierten Tabakabhängigkeit. Durch ein kognitiv-verhaltenstherapeutisches Nichtrauchercoaching wird Patientinnen und Patienten geholfen, ihre Tabakabhängigkeit zu überwinden. Die App begleitet Patientinnen und Patienten über einen Zeitraum von 3 Monaten, um vor allem auch nach dem Rauchstopp weitere Unterstützungsmöglichkeiten anbieten zu können.']\n",
      "['Novego: Depressionen bewältigen', 'IVPNetworks GmbH, Deutschland', 'F32.0, F32.1, F33.0, F33.1, F34.1', 'Leichte depressive Episode, Mittelgradige depressive Episode, Rezidivierende depressive Störung, gegenwärtig leichte Episode, Rezidivierende depressive Störung, gegenwärtig mittelgradige Episode, Dysthymia', 'Novego: Depressionen bewältigen ist ein psychologisches Online-Unterstützungsprogramm für Menschen, die unter Depressionen leiden. Novego wird bereits seit über zehn Jahren  zur Überbrückung von Wartezeiten, begleitend zu einer Therapie oder als Anschlussangebot zur Stabilisierung eingesetzt. Das Programm basiert auf den  Methoden der Kognitiven Verhaltenstherapie, die individuell auf die persönliche Lebenssituation der Teilnehmer und Teilnehmerinnen abgestimmt werden. Die Inhalte werden verständlich und kreativ aufbereitet und in Form von Texten, Videos, Audios und interaktiven Übungen abwechslungsreich dargestellt. Novego: Depressionen bewältigen steht den Teilnehmern und Teilnehmerinnen nach der regulären Programmlaufzeit von 12 Wochen für weitere 12 Monate zur Verfügung, sodass Inhalte gefestigt und dauerhaft in den Alltag integriert werden können. Während der selbständigen Bearbeitung können die Teilnehmer und Teilnehmerinnen bei Fragen direkt das Novego-Team einmal pro Woche per Nachricht kontaktieren. Für den Fall, dass eine akute Krise auftritt, steht ergänzend zu dem Programm eine 24h-Krisenhotline zur Verfügung. Die Wirksamkeit von Novego bei der Reduktion depressiver Symptome wurde bereits in drei Studien bei unterschiedlichen Patientengruppen untersucht. Eine weitere Studie befindet sich aktuell in der Durchführung.']\n",
      "['optimune', 'GAIA AG, Deutschland', 'C50', 'Bösartige Neubildung der Brustdrüse Mamma', 'Bei optimune handelt es sich um eine DiGA für Patientinnen mit Brustkrebs, die ihre Erstbehandlung abgeschlossen haben, sich belastet fühlen und mindestens 18 Jahre alt sind. optimune vermittelt insbesondere Methoden und Techniken der Kognitiven Verhaltenstherapie. In einer klinischen Studie (Holtdirk et al., 2021) hat sich gezeigt, dass optimune zusätzlich zu einer sonst üblichen Versorgung die Lebensqualität nach 12 Wochen stärker verbessert als die übliche Versorgung allein.-Im Versorgungspfad ist optimune wie folgt einzuordnen:- Tertiäre Prävention: Bei der Tertiärprävention handelt es sich um die “Verhütung der Verschlimmerung von Krankheiten und Behinderungen durch wirksame Therapie einer symptomatisch gewordenen Krankheit” (Definition Pschyrembel online). In der klinischen Studie wurden Patientinnen eingeschlossen, bei denen ein Brustkrebs diagnostiziert wurde und die ihre Ersttherapie abgeschlossen haben. Die systematische Datenauswertung erfolgte bei Patientinnen, die symptomatisch waren, d. h., bei denen die Lebensqualität vermindert war.-- Überbrückung: In der klinischen Studie wurde optimune ohne Berücksichtigung einer Psychotherapie (begleitend oder im Nachgang) evaluiert. Wie oben dargestellt, ergab sich eine stärkere Verbesserung der Lebensqualität in der Interventions- gegenüber der Kontrollgruppe.-- Therapiebegleitung: In der klinischen Studie wurde optimune als Ergänzung zu der sonst üblichen medizinischen Versorgung untersucht. Zudem sieht die Zweckbestimmung auch nur den ergänzenden Einsatz zu der sonst üblichen medizinischen Versorgung vor. optimune ist zur reinen Selbstanwendung durch die Patientin vorgesehen. Ärzte/Ärztinnen oder Psychotherapeuten/Psychotherapeutinnen müssen demnach keine zusätzlichen Leistungen erbringen (wie z. B. Coachings oder zusätzliche Telefonate), wenn sie optimune verordnen. Zudem ist optimune alleinstehend wirksam. Neben optimune können, müssen jedoch in keinem Fall, andere Behandlungen (wie z. B. Psychotherapie) eingesetzt werden.']\n",
      "['Oviva Direkt für Adipositas', 'Oviva AG (Zweigniederlassung Deutschland) , Deutschland', 'E66', 'Adipositas', 'Oviva Direkt für Adipositas ist die digitale Therapie zur Behandlung von starkem Übergewicht und unterstützt Menschen täglich dabei, ihre Gewohnheiten zu ändern und ihr Gewicht zu reduzieren. Die DiGA-App ist ein digitaler Helfer im Alltag von Patientinnen und Patienten und ermöglicht die gängige Behandlung zum Abnehmen (multimodale Adipositastherapie) auf dem Smartphone.']\n",
      "['PINK! Coach', 'PINK gegen Brustkrebs GmbH, Deutschland', 'C50', 'Bösartige Neubildung der Brustdrüse Mamma', 'PINK! Coach ist eine digitale Anwendung, die zur Stärkung der gesundheitsbezogenen Lebensqualität und der Gesundheitskompetenz sowie einer Linderung der psychischen, psychosomatischen und somatischen Folgen einer Brustkrebserkrankung dient. Um eine langfristige, anhaltende Verbesserung der Lebensqualität und des Gesundheitszustandes zu erreichen, zielt PINK! Coach darauf ab, das gesundheitsrelevante Verhalten der Patientinnen und Patienten schrittweise aber nachhaltig zu verändern.PINK! Coach unterstützt Brustkrebspatientinnen und -patienten bei der Veränderung ihres Lebensstils hin zu mehr Bewegung, gesünderer Ernährung und Achtsamkeit gemäß den aktuellen Leitlinienempfehlungen. Über Coaching Module erhalten die Patientinnen und Patienten pseudoindividualisierte Informationen, praktische Tipps, Anleitungen und Übungen in den Bereichen Bewegung, Ernährung und mentale Gesundheit. PINK! Coach adressiert positive Bewältigungsstrategien und fördert den positiven, kompetenten und souveränen Umgang mit der plötzlich veränderten Lebenssituation.Mit Hilfe eines Chatbots können Patientinnen und Patienten darüber hinaus Fragen zu Beschwerden und Nebenwirkungen stellen und erhalten darauf zutreffende Informationen und Tipps zur Selbsthilfe (Hausmittel und Verhaltensweisen) mit dem Ziel, die Nebenwirkungen zu verbessern. PINK! Coach ist eine therapiebegleitende digitale Lösung für Brustkrebspatientinnen und -patienten vom Zeitpunkt der Diagnose bis zur letzten Nachsorge oder noch darüber hinaus.']\n",
      "['re.flex', 'Kineto Tech Rehab SRL, Rumänien', 'M17.0, M17.1, M17.2, M17.3, M17.4, M17.5, M17.9', 'Primäre Gonarthrose, beidseitig, Sonstige primäre Gonarthrose, Posttraumatische Gonarthrose, beidseitig, Sonstige posttraumatische Gonarthrose, Sonstige sekundäre Gonarthrose, beidseitig, Sonstige sekundäre Gonarthrose, Gonarthrose, nicht näher bezeichnet', 'Die Sporlastic Medizinische Produkte GmbH stellt mit der digitalen Gesundheitsanwendung re.flex Patientinnen und Patienten mit Gonarthrose eine angeleitete und kontrollierte Sport- und Bewegungstherapie zur Verfügung. Diese besteht aus einer App und zwei Bewegungssensoren. Ein detailliertes und indikationsspezifisches Trainingsprogramm bietet die Möglichkeit zum eigenständigen Training der Patientinnen und Patienten und zur Dokumentation der Trainingsaktivität. Mittels der Bewegungssensoren ist re.flex in der Lage, den Patientinnen und Patienten klare Instruktionen und unmittelbares Live-Feedback über korrekte und inkorrekte Ausführung der Übung zu geben, sowohl akustisch als auch visuell. Die physiotherapeutischen Übungen in der digitalen Gesundheitsanwendung re.flex setzen sich aus Moblisations-, Gleichgewichts-, Kräftigungs- und Dehnungs-Übungen zusammen. Das Übungsprogramm wurde gemeinsam von der Sporlastic Medizinische Produkte GmbH und der Sportmedizin des Universitätsklinikums Tübingen entwickelt und orientiert sich am aktuellen Stand der Wissenschaft sowie aktuellen studienbasierten Leitlinien.']\n",
      "['Selfapys Online-Kurs bei Depression', 'Selfapy GmbH, Deutschland', 'F32.0, F32.1, F33.0, F33.1', 'Leichte depressive Episode, Mittelgradige depressive Episode, Rezidivierende depressive Störung, gegenwärtig leichte Episode, Rezidivierende depressive Störung, gegenwärtig mittelgradige Episode', 'Selfapy bietet Betroffenen mit einer Depression einen individuellen Online-Kurs, der auf evidenzbasierten Theorien und Techniken der Kognitiven Verhaltenstherapie basiert. Die therapeutischen Inhalte können über den internetbasierten Kurs vom Betroffenen selbstständig bearbeitet werden. Dieser ist in einzelne Lektionen aufgeteilt, welche sich jeweils mit einem Thema beschäftigen wie beispielsweise dem Umgang mit negativen Gedanken, der Erstellung einer positiven Tagesstruktur, Entspannungstechniken, Schlafproblemen, sowie Strategien zur Rückfallprävention. Die Inhalte werden mit Hilfe von Audio- und Videoclips, Texten und Übungen vermittelt. Die Inhalte passen sich dabei individuell an die persönliche Situation des Betroffenen an. Zur Wahrung der Patientensicherheit wird der Betroffene während des Kurses durchgehend von einem persönlichen Psychologen überwacht. Bei akutem Bedarf steht der Psychologe über eine Nachrichtenfunktion bei Fragen zur Anwendung zur Verfügung.']\n",
      "['Selfapys Online-Kurs bei Generalisierter Angststörung', 'Selfapy GmbH, Deutschland', 'F41.1', 'Generalisierte Angststörung', 'Selfapy bietet weiblichen Patientinnen mit einer Generalisierten Angststörung einen individuellen Online-Kurs, der auf evidenzbasierten Theorien und Techniken der Kognitiven Verhaltenstherapie basiert. Die therapeutischen Inhalte können über den internetbasierten Kurs von der Betroffenen selbstständig bearbeitet werden. Der Kurs ist in einzelne Lektionen aufgeteilt, welche sich jeweils mit einem Thema beschäftigen wie beispielsweise dem Umgang der automatischen Gedanken, die hinter einer Angststörung stehen, den Angstreaktionen und körperlichen Symptomen, Expositionsübungen sowie Übungen zur Achtsamkeit. Die Inhalte werden mit Hilfe von anschaulichen Audio- und Videoclips, Texten und Übungen vermittelt. Die Inhalte passen sich individuell an die persönliche Situation der Betroffenen an. Zur Wahrung der Patientensicherheit erfolgt während des Kurses durchgehend eine Überwachung von einer persönlichen Psychologin oder einem persönlichen Psychologen. Bei akutem Bedarf steht dieser über eine Nachrichtenfunktion bei Fragen zur Verfügung.']\n",
      "['sinCephalea - Migräneprophylaxe', 'Perfood GmbH, Deutschland', 'G43.0, G43.1', 'Migräne ohne Aura Gewöhnliche Migräne, Migräne mit Aura Klassische Migräne', 'sinCephalea stellt eine leitliniengerechte Anfallsprophylaxe von Migräne dar. Über eine 12-wöchige Interventionsphase werden die Patientinnen und Patienten schrittweise an die Umsetzung von neuen ernährungsmedizischen Erkenntnissen aus der personalisierten Ernährung herangeführt, sowie über klassische konservative Maßnahmen, wie individuelle Hinweise zu Lebenstilveränderungen unterstützt.sinCephalea erstellt auf Basis individueller Blutzuckerreaktionen auf Nahrungsmittel und Mahlzeiten personalisierte Empfehlungen für eine niedrig-glykämische Ernährung, die in Form eines Ernährungsreports in der App zur Verfügung gestellt werden.Diese personalisierten Ernährungsempfehlungen werden in der App um Lektionen über Migräne und Ernährung sowie weitere bewährte Lebensstilregeln bei Migräne wie bspw. Stressreduktion und Schlafhygiene ergänzt.sinCephalea beinhaltet zudem ein Kopfschmerztagebuch und regelmäßige Migränefragebögen, über die Kopfschmerzen und Migränesymptome sowie die Beeinträchtigung im Alltag festgehalten werden können.']\n",
      "['somnio', 'mementor DE GmbH, Deutschland', 'F51.0', 'Nichtorganische Insomnie', 'somnio ist eine digitale Anwendung zur Behandlung von Ein- und Durchschlafstörungen (Insomnie). In der Anwendung werden evidenzbasierte und leitlinienkonforme Inhalte aus dem Bereich der kognitiven Verhaltenstherapie für Insomnie (KVT-I) vermittelt. Nutzer*innen lernen beispielsweise, ihre Schlafzeiten zu optimieren, einem individuell abgestimmten Schlaf-Wach-Rhythmus zu folgen, mit schlafhindernden Gedanken umzugehen oder sich mittels Entspannungstechniken in einen schlafförderlichen Zustand zu bringen. Die Wirksamkeit von somnio wurde in einer randomisierten kontrollierten Studie untersucht. Patient*innen, die somnio nutzten, zeigten im Vergleich zu einer Kontrollgruppe eine deutliche Reduktion der Insomnie-Symptome. somnio ist als Web-Anwendung direkt aus dem Browser aufrufbar sowie als App für Smartphones und Tablets mit den Betriebssystemen iOS und Android verfügbar.']\n",
      "['velibra', 'GAIA AG, Deutschland', 'F40.01, F40.1, F41.0, F41.1', 'Agoraphobie: Mit Panikstörung, Soziale Phobien, Panikstörung episodisch paroxysmale Angst, Generalisierte Angststörung', 'velibra ist ein webbasiertes Programm für Patienten mit einer generalisierten Angststörung, einer Panikstörung mit oder ohne Agoraphobie oder einer sozialen Angststörung. velibra vermittelt etablierte Methoden und Übungen der Kognitiven Verhaltenstherapie - einer sehr gut wissenschaftlich untersuchten Form der Psychotherapie. Das Programm ist als Ergänzung zu einer sonst üblichen Behandlung (zum Beispiel durch den Hausarzt) für Patienten vorgesehen, die mindestens 18 Jahre alt sind. velibra ist zur Eigenanwendung durch den Patienten für 180 Tage bestimmt. Die Wirksamkeit von velibra wurde in einer klinischen Studie untersucht und in einer sehr angesehenen wissenschaftlichen Fachzeitschrift veröffentlicht. An dieser Studie nahmen 139 Patienten teil, die an einer generalisierten Angststörung, einer Panikstörung mit oder ohne Agoraphobie oder einer sozialen Angststörung litten. In dieser Studie zeigte sich, dass Patienten, die zusätzlich zu einer hausärztlichen Behandlung velibra nutzten, deutlich geringere Angst- und depressive Beschwerden hatten als Patienten, die nur eine hausärztliche Behandlung erhielten. Die Verordnungsdauer von velibra beträgt 90 Tage. Zur Stabilisierung der Effekte ist eine Nutzung für 180 Tage empfohlen.']\n",
      "['Vitadio', 'Vitadio s.r.o., Tschechien', 'E11', 'Diabetes mellitus, Typ 2', 'Vitadio bei Diabetes Typ 2 ist eine DiGA, die darauf abzielt, die Diabeteskontrolle zu verbessern, indem sie die Nutzerinnen und Nutzer zu einem besseren Selbstmanagement und Lebensstil befähigt. Es ergänzt die von der Ärztin und dem Arzt festgelegte Therapie und unterstützt die Patientinnen und Patienten dabei, ihre Behandlungsziele zu erreichen und gesundheitliche Komplikationen im Zusammenhang mit Diabetes zu verhindern.Vitadio nutzt einen multimodalen Therapieansatz, um individuelle Unterstützung bei der Änderung des Lebensstils und dem Selbstmanagement zu bieten. Die Anwendung führt die Nutzerinnen und Nutzer mit Hilfe von täglichen Aufgaben und automatisierten Nachrichten durch das Programm. Die Aufgaben entwickeln sich je nach den Entscheidungen und Fortschritten der Nutzerinnen und Nutzer im Programm und konzentrieren sich auf die Etablierung einer Routine im Bereich des Selbstmanagements. Die Nutzerinnen und Nutzer folgen einem interaktiven Lehrgang, der Themen wie Motivation, Ernährung, körperliche Aktivität, Schlafhygiene, psychisches Wohlbefinden und soziale Aspekte des Lebens mit Diabetes abdeckt. Das Gelernte wird mit Hilfe von spielerischen persönlichen Zielen umgesetzt, die den Nutzerinnen und Nutzern helfen, wichtige Gewohnheiten in ihrem täglichen Leben zu integrieren.Das Programm wird durch menschliche Unterstützungsfunktionen ergänzt. Eine persönliche Beraterin oder ein persönlicher Berater steht im Chat zur Verfügung, um die Fragen der Nutzerinnen und Nutzer zur Bedienung des Programms zu beantworten. Außerdem können die Nutzerinnen und Nutzer einer Peer-Support-Gruppe beitreten, um Ermutigung und Erfahrungen mit anderen Teilnehmenden zu teilen.Vitadio bietet allen Patientinnen und Patienten mit Diabetes eine tertiäre Prävention, um gesundheitliche Komplikationen infolge eines unkontrollierten Diabetes zu vermeiden. Außerdem unterstützt es die Wirksamkeit der von der Ärztin/ dem Arzt festgelegten Therapie (Therapiebegleitung).']\n",
      "['Vivira', 'Vivira Health Lab GmbH, Deutschland', 'M42.0, M42.1, M42.9, M53.2, M53.8, M53.9, M54.4, M54.5, M54.6, M54.8, M54.9, M99.02, M99.03, M99.04, M99.82, M99.83, M99.84, M99.92, M99.93, M99.94', 'Juvenile Osteochondrose der Wirbelsäule, Osteochondrose der Wirbelsäule beim Erwachsenen, Osteochondrose der Wirbelsäule, nicht näher bezeichnet, Instabilität der Wirbelsäule, Sonstige näher bezeichnete Krankheiten der Wirbelsäule und des Rückens, Krankheit der Wirbelsäule und des Rückens, nicht näher bezeichnet, Lumboischialgie, Kreuzschmerz, Schmerzen im Bereich der Brustwirbelsäule, Sonstige Rückenschmerzen, Rückenschmerzen, nicht näher bezeichnet, Segmentale und somatische Funktionsstörungen: Thorakalbereich thorakolumbal, Segmentale und somatische Funktionsstörungen: Lumbalbereich lumbosakral, Segmentale und somatische Funktionsstörungen: Sakralbereich sakrokokzygeal, sakroiliakal, Sonstige biomechanische Funktionsstörungen: Thorakalbereich thorakolumbal, Sonstige biomechanische Funktionsstörungen: Lumbalbereich lumbosakral, Sonstige biomechanische Funktionsstörungen: Sakralbereich sakrokokzygeal, sakroiliakal, Biomechanische Funktionsstörung, nicht näher bezeichnet: Thorakalbereich thorakolumbal, Biomechanische Funktionsstörung, nicht näher bezeichnet: Lumbalbereich lumbosakral, Biomechanische Funktionsstörung, nicht näher bezeichnet: Sakralbereich sakrokokzygeal, sakroiliakal', 'Die DiGA Vivira ist eine durch das BfArM endgültig ins DiGA-Verzeichnis aufgenommene digitale Anwendung zur Behandlung von Rückenschmerzen bei nicht-spezifischen Kreuzschmerzen oder Arthrose der Wirbelsäule (Osteochondrose).Die bewegungstherapeutische DiGA Vivira bietet täglich vier      Übungen, die auf Basis der Rückmeldungen der Patient*innen fortlaufend ihre Intensität und Komplexität anpassen. Die täglichen Übungen werden durch wöchentliche Abfragen zur Gesundheit, die Visualisierung des Fortschritts, monatliche Bewegungstests und durch edukative Inhalte ergänzt. Vivira unterstützt die Umsetzung der in Leitlinien für nicht-spezifischen Kreuzschmerz vorgesehene Trainings-Elemente sowie die Umsetzung der Heilmittelrichtlinie.Die Wirksamkeit der DiGA Vivira wurde in einer randomisiert kontrollierten Studie (RCT-Studie) untersucht und belegt. Die Schmerzintensität von Patient*innen, die mit der DiGA Vivira trainierten, reduzierte sich statistisch signifikant und in klinisch relevantem Ausmaß. Die Veröffentlichung sämtlicher Studienergebnisse      ist für das Jahr 2022 geplant.']\n",
      "['vorvida', 'GAIA AG, Deutschland', 'F10.1, F10.2', 'Psychische und Verhaltensstörungen durch Alkohol: Schädlicher Gebrauch, Psychische und Verhaltensstörungen durch Alkohol: Abhängigkeitssyndrom', 'vorvida ist eine digitale Gesundheitsanwendung für Patienten mit schädlichem Alkoholkonsum oder Alkoholabhängigkeit, die mindestens 18 Jahre alt sind.vorvida verfolgt das Ziel, diese Patienten beim Management ihres gesundheitsschädlichen Trinkverhaltens zu unterstützen und die Trinkmenge zu reduzieren. Das Programm soll in Ergänzung zu einer sonst üblichen Behandlung (zum Beispiel beim Haus- oder Facharzt) eingesetzt werden.vorvida basiert auf etablierten psychotherapeutischen Ansätzen und Verfahren insbesondere der kognitiven Verhaltenstherapie (KVT).vorvida ist zur Eigenanwendung durch den Patienten für 180 Tage bestimmt. Die Wirksamkeit von vorvida wurde in einer klinischen Studie untersucht und in einer wissenschaftlichen Fachzeitschrift veröffentlicht. An dieser Studie nahmen 608 Patienten mit schädlichem oder gefährlichem Alkoholgebrauch (Abhängigkeitssyndrom) teil. In dieser Studie zeigte sich, dass bei Patienten, die zusätzlich zu einer sonst üblichen Behandlung vorvida nutzten, der Alkoholkonsum deutlich stärker abgenommen hatte als bei Patienten, die nur eine sonst übliche Behandlung erhielten. Die Verordnungsdauer von vorvida beträgt 90 Tage. Zur Stabilisierung der Effekte ist eine Nutzung für 180 Tage empfohlen.']\n",
      "['zanadio', 'aidhere GmbH, Deutschland', 'E66.00, E66.01', 'Adipositas durch übermäßige Kalorienzufuhr: Adipositas Grad I (WHO) bei Patienten von 18 Jahren und älter, Adipositas durch übermäßige Kalorienzufuhr: Adipositas Grad II (WHO) bei Patienten von 18 Jahren und älter', 'zanadio ist eine Anwendung, die weiblichen Patientinnen durch eine Veränderung Ihrer Gewohnheiten in den Bereichen Bewegung, Ernährung sowie weitere Verhaltensweisen hilft, langfristig ihr Gewicht zu reduzieren. Die DiGA basiert dabei auf dem wissenschaftlichen Konzept der multimodalen, konservativen Adipositastherapie, welche die verschiedenen relevanten Bereiche adressiert und hierdurch eine langfristige, dauerhafte Gewichtsreduktion herbeiführt und die Lebensqualität bei weiblichen Patientinnen erhöht. Das Programm setzt diesen etablierten Behandlungsansatz digital um.']\n"
     ]
    }
   ],
   "source": [
    "# loop through the dictionary and print the values\n",
    "for key, value in df_dict.items():\n",
    "    print(value)\n",
    "    "
   ]
  },
  {
   "cell_type": "code",
   "execution_count": 15,
   "metadata": {},
   "outputs": [],
   "source": [
    "model = SentenceTransformer(\"sentence-transformers/msmarco-distilbert-dot-v5\")\n"
   ]
  },
  {
   "cell_type": "code",
   "execution_count": 42,
   "metadata": {},
   "outputs": [],
   "source": [
    "input_text = 'kopfschmerzen, rückenschmerzen, schmerzen im knie'"
   ]
  },
  {
   "cell_type": "code",
   "execution_count": 41,
   "metadata": {},
   "outputs": [],
   "source": [
    "entry_embeddings = model.encode(list(df_dict.values()))"
   ]
  },
  {
   "cell_type": "code",
   "execution_count": 44,
   "metadata": {},
   "outputs": [],
   "source": [
    "input_embedding = model.encode([input_text])"
   ]
  },
  {
   "cell_type": "code",
   "execution_count": 45,
   "metadata": {},
   "outputs": [],
   "source": [
    "similarity = np.dot(input_embedding, entry_embeddings.T)"
   ]
  },
  {
   "cell_type": "code",
   "execution_count": 47,
   "metadata": {},
   "outputs": [
    {
     "data": {
      "text/plain": [
       "array([[34,  7, 31,  5,  6, 27, 35,  1,  0, 14, 32, 24, 15, 36, 30,  3,\n",
       "        20, 17,  4, 18, 33, 19, 13,  9, 21, 25, 26, 16,  8, 28, 29, 23,\n",
       "         2, 12, 11, 22, 10]], dtype=int64)"
      ]
     },
     "execution_count": 47,
     "metadata": {},
     "output_type": "execute_result"
    }
   ],
   "source": [
    "np.argsort(similarity)"
   ]
  },
  {
   "cell_type": "code",
   "execution_count": 35,
   "metadata": {},
   "outputs": [
    {
     "ename": "ValueError",
     "evalue": "too many dimensions 'str'",
     "output_type": "error",
     "traceback": [
      "\u001b[1;31m---------------------------------------------------------------------------\u001b[0m",
      "\u001b[1;31mValueError\u001b[0m                                Traceback (most recent call last)",
      "Cell \u001b[1;32mIn[35], line 1\u001b[0m\n\u001b[1;32m----> 1\u001b[0m util\u001b[39m.\u001b[39;49mdot_score(input_embedding, all_values)\n",
      "File \u001b[1;32mc:\\Users\\asian\\miniconda3\\envs\\medfarm\\lib\\site-packages\\sentence_transformers\\util.py:61\u001b[0m, in \u001b[0;36mdot_score\u001b[1;34m(a, b)\u001b[0m\n\u001b[0;32m     58\u001b[0m     a \u001b[39m=\u001b[39m torch\u001b[39m.\u001b[39mtensor(a)\n\u001b[0;32m     60\u001b[0m \u001b[39mif\u001b[39;00m \u001b[39mnot\u001b[39;00m \u001b[39misinstance\u001b[39m(b, torch\u001b[39m.\u001b[39mTensor):\n\u001b[1;32m---> 61\u001b[0m     b \u001b[39m=\u001b[39m torch\u001b[39m.\u001b[39;49mtensor(b)\n\u001b[0;32m     63\u001b[0m \u001b[39mif\u001b[39;00m \u001b[39mlen\u001b[39m(a\u001b[39m.\u001b[39mshape) \u001b[39m==\u001b[39m \u001b[39m1\u001b[39m:\n\u001b[0;32m     64\u001b[0m     a \u001b[39m=\u001b[39m a\u001b[39m.\u001b[39munsqueeze(\u001b[39m0\u001b[39m)\n",
      "\u001b[1;31mValueError\u001b[0m: too many dimensions 'str'"
     ]
    }
   ],
   "source": [
    "util.dot_score(input_embedding, all_values)"
   ]
  },
  {
   "cell_type": "code",
   "execution_count": null,
   "metadata": {},
   "outputs": [],
   "source": [
    "def top5(input_text, dictionary):\n",
    "    input_embedding = model.encode(input_text)"
   ]
  },
  {
   "cell_type": "code",
   "execution_count": 3,
   "metadata": {},
   "outputs": [],
   "source": [
    "def find_closest_entry(input_text, dictionary):\n",
    "    # get the embeddings for the input text and the dictionary entries\n",
    "    input_embedding = model.encode([input_text])[0]\n",
    "    entry_embeddings = model.encode(list(dictionary.values()))\n",
    "    \n",
    "    # compute the cosine similarity between the input embedding and the entry embeddings\n",
    "    similarity = np.dot(input_embedding, entry_embeddings.T)\n",
    "    \n",
    "    # find the index of the closest entry\n",
    "    closest_index = np.argmax(similarity)\n",
    "    \n",
    "    # get the key of the closest entry\n",
    "    closest_key = list(dictionary.keys())[closest_index]\n",
    "    \n",
    "    return closest_key\n"
   ]
  },
  {
   "cell_type": "code",
   "execution_count": 1,
   "metadata": {},
   "outputs": [
    {
     "name": "stderr",
     "output_type": "stream",
     "text": [
      "c:\\Users\\asian\\miniconda3\\envs\\medfarm\\lib\\site-packages\\tqdm\\auto.py:22: TqdmWarning: IProgress not found. Please update jupyter and ipywidgets. See https://ipywidgets.readthedocs.io/en/stable/user_install.html\n",
      "  from .autonotebook import tqdm as notebook_tqdm\n"
     ]
    },
    {
     "name": "stdout",
     "output_type": "stream",
     "text": [
      "Similarity: tensor([[0.5472, 0.6330]])\n",
      "Similarity: tensor([[0.0032]])\n",
      "Similarity: tensor([[0.7570]])\n"
     ]
    }
   ],
   "source": [
    "from sentence_transformers import SentenceTransformer, util\n",
    "model = SentenceTransformer('multi-qa-MiniLM-L6-cos-v1')\n",
    "\n",
    "query_embedding = model.encode('How big is London')\n",
    "passage_embedding1 = model.encode(['London has 9,787,426 inhabitants at the 2011 census',\n",
    "                                  'London is known for its finacial district'])\n",
    "\n",
    "passage_embedding2 = model.encode(['The greatest pleasure of a man is his worth and his honor, they way his compatriots look at thim.'])\n",
    "passage_embedding3 = model.encode(['London is of similiar size to Berlin'])\n",
    "\n",
    "print(\"Similarity:\", util.dot_score(query_embedding, passage_embedding1))\n",
    "print(\"Similarity:\", util.dot_score(query_embedding, passage_embedding2))\n",
    "print(\"Similarity:\", util.dot_score(query_embedding, passage_embedding3))"
   ]
  },
  {
   "cell_type": "code",
   "execution_count": null,
   "metadata": {},
   "outputs": [],
   "source": [
    "# loop through the dictionary and return the values as a list\n",
    "\n",
    "for key, value in df_dict.items():"
   ]
  },
  {
   "cell_type": "code",
   "execution_count": 2,
   "metadata": {},
   "outputs": [
    {
     "name": "stdout",
     "output_type": "stream",
     "text": [
      "Similarity: tensor([[0.2911, 0.2449]])\n",
      "Similarity: tensor([[0.2084, 0.2005]])\n"
     ]
    }
   ],
   "source": [
    "query = model.encode('rückenschmerzen')\n",
    "query2 = model.encode('Brustkrebs')\n",
    "passage = model.encode(['HelloBetter ratiopharm chronischer Schmerz ist ein interaktives psychologisches Online-Programm zur anhaltenden Reduktion der Schmerzbeeinträchtigung bei Menschen mit chronischen Schmerzen. Neben fundierter Psychoedukation mittels Texten, Videos und Audios, erlernen Betroffene wirksame Strategien der Akzeptanz- und Commitment-Therapie (ACT), die eine Weiterentwicklung der kognitiven Verhaltenstherapie (KVT) darstellt. Diese Strategien können durch praktische Übungen in den Alltag übertragen werden.', 'HelloBetter Schlafen ist ein interaktives psychologisches Therapieprogramm zur Reduktion insomnischer Beschwerden. Das Online-Programm basiert auf der kognitiven Verhaltenstherapie für Insomnie (KVT-I) und wurde von Expertinnen und Experten aus der Wissenschaft, Psychologie und Psychotherapie sowie gemeinsam mit Betroffenen entwickelt. Neben fundierter Psychoedukation vermittelt das Online-Programm wirksame Strategien aus der kognitiven Verhaltenstherapie nach dem aktuellsten Stand wissenschaftlicher Erkenntnisse. Dazu gehören unter anderem Schlafhygiene, Bettzeitverkürzung, Stimuluskontrolle, kognitive Strategien, Entspannungsverfahren, eine Rückfallprophylaxe sowie ein fortlaufendes Online-Tagebuch.'])\n",
    "print(\"Similarity:\", util.dot_score(query, passage))\n",
    "print(\"Similarity:\", util.dot_score(query2, passage))"
   ]
  }
 ],
 "metadata": {
  "kernelspec": {
   "display_name": "medfarm",
   "language": "python",
   "name": "python3"
  },
  "language_info": {
   "codemirror_mode": {
    "name": "ipython",
    "version": 3
   },
   "file_extension": ".py",
   "mimetype": "text/x-python",
   "name": "python",
   "nbconvert_exporter": "python",
   "pygments_lexer": "ipython3",
   "version": "3.9.15 (main, Nov 24 2022, 14:39:17) [MSC v.1916 64 bit (AMD64)]"
  },
  "orig_nbformat": 4,
  "vscode": {
   "interpreter": {
    "hash": "37679cf29b7496ddd4793fecd93188e289e1f8e61aa4f352b8312531d9f4689e"
   }
  }
 },
 "nbformat": 4,
 "nbformat_minor": 2
}
